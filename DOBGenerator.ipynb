{
  "nbformat": 4,
  "nbformat_minor": 0,
  "metadata": {
    "colab": {
      "name": "DOBGenerator.ipynb",
      "provenance": [],
      "collapsed_sections": [],
      "authorship_tag": "ABX9TyOat4+tbEYWvPvjMckC0Xm8",
      "include_colab_link": true
    },
    "kernelspec": {
      "name": "python3",
      "display_name": "Python 3"
    },
    "language_info": {
      "name": "python"
    }
  },
  "cells": [
    {
      "cell_type": "markdown",
      "metadata": {
        "id": "view-in-github",
        "colab_type": "text"
      },
      "source": [
        "<a href=\"https://colab.research.google.com/github/pratimavermaa/Python_selfpractice/blob/main/DOBGenerator.ipynb\" target=\"_parent\"><img src=\"https://colab.research.google.com/assets/colab-badge.svg\" alt=\"Open In Colab\"/></a>"
      ]
    },
    {
      "cell_type": "code",
      "metadata": {
        "id": "MssK5shus2Li",
        "colab": {
          "base_uri": "https://localhost:8080/"
        },
        "outputId": "80dae860-7144-4291-b5d0-57e29fb9ac77"
      },
      "source": [
        "import random\n",
        "from datetime import datetime, timedelta\n",
        "\n",
        "min_year=1901\n",
        "max_year=2020\n",
        "\n",
        "start = datetime(min_year, 1, 1)\n",
        "years = max_year - min_year+1\n",
        "end = timedelta(days=365 * years)\n",
        "\n",
        "random_date = [(start + (end) * random.random()).strftime(\"%dth,%b, %Y\") for i in range(25)]\n",
        "print(str(random_date))\n",
        "['05th,Jul, 2009', '21th,Mar, 1922', '31th,Mar, 1931', '03th,Apr, 1985', '03th,Sep, 1987', '29th,Apr, 2018', '12th,Nov, 1944', '06th,Jan, 1981', '11th,Mar, 1933', '12th,Oct, 1920', '19th,Jul, 1998', '02th,Jun, 2012', '08th,Jun, 1915', '21th,Oct, 1914', '07th,Mar, 2013', '06th,Apr, 1994', '14th,May, 1905', '15th,Jul, 1920', '27th,Mar, 1946', '16th,Dec, 1908', '22th,Sep, 2010', '05th,Feb, 1946', '24th,Feb, 1917', '11th,Jan, 1961', '20th,Nov, 1986']\n",
        "\n",
        "\n",
        "# print[random_date.strftime(\"%dth,%b, %Y\") for date in dates if date.month == month]\n",
        "# [date for date in dates if date.month == month]"
      ],
      "execution_count": null,
      "outputs": [
        {
          "output_type": "stream",
          "text": [
            "['05th,Jul, 2009', '21th,Mar, 1922', '31th,Mar, 1931', '03th,Apr, 1985', '03th,Sep, 1987', '29th,Apr, 2018', '12th,Nov, 1944', '06th,Jan, 1981', '11th,Mar, 1933', '12th,Oct, 1920', '19th,Jul, 1998', '02th,Jun, 2012', '08th,Jun, 1915', '21th,Oct, 1914', '07th,Mar, 2013', '06th,Apr, 1994', '14th,May, 1905', '15th,Jul, 1920', '27th,Mar, 1946', '16th,Dec, 1908', '22th,Sep, 2010', '05th,Feb, 1946', '24th,Feb, 1917', '11th,Jan, 1961', '20th,Nov, 1986']\n"
          ],
          "name": "stdout"
        }
      ]
    },
    {
      "cell_type": "code",
      "metadata": {
        "id": "cMBDQND3s3Qe"
      },
      "source": [
        ""
      ],
      "execution_count": null,
      "outputs": []
    }
  ]
}